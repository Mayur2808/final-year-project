{
 "cells": [
  {
   "cell_type": "code",
   "execution_count": 4,
   "metadata": {
    "execution": {
     "iopub.execute_input": "2020-12-06T16:14:02.118578Z",
     "iopub.status.busy": "2020-12-06T16:14:02.117823Z",
     "iopub.status.idle": "2020-12-06T16:14:03.448480Z",
     "shell.execute_reply": "2020-12-06T16:14:03.449028Z"
    },
    "papermill": {
     "duration": 1.381495,
     "end_time": "2020-12-06T16:14:03.449206",
     "exception": false,
     "start_time": "2020-12-06T16:14:02.067711",
     "status": "completed"
    },
    "tags": []
   },
   "outputs": [],
   "source": [
    "import pandas as pd\n",
    "import numpy as np\n",
    "import matplotlib.pyplot as plt\n",
    "%matplotlib inline\n",
    "import seaborn as sns\n",
    "from pycaret.regression import *"
   ]
  },
  {
   "cell_type": "code",
   "execution_count": 5,
   "metadata": {},
   "outputs": [],
   "source": [
    "pd.set_option('display.max_columns',None)\n",
    "pd.set_option('display.max_rows',None)\n",
    "pd.set_option('display.float_format', '{:4f}'.format)"
   ]
  },
  {
   "cell_type": "code",
   "execution_count": 6,
   "metadata": {
    "execution": {
     "iopub.execute_input": "2020-12-06T16:14:03.536830Z",
     "iopub.status.busy": "2020-12-06T16:14:03.536154Z",
     "iopub.status.idle": "2020-12-06T16:14:03.621256Z",
     "shell.execute_reply": "2020-12-06T16:14:03.620333Z"
    },
    "papermill": {
     "duration": 0.134116,
     "end_time": "2020-12-06T16:14:03.621398",
     "exception": false,
     "start_time": "2020-12-06T16:14:03.487282",
     "status": "completed"
    },
    "tags": []
   },
   "outputs": [
    {
     "ename": "FileNotFoundError",
     "evalue": "[Errno 2] No such file or directory: 'kc_house_data.csv'",
     "output_type": "error",
     "traceback": [
      "\u001b[1;31m---------------------------------------------------------------------------\u001b[0m",
      "\u001b[1;31mFileNotFoundError\u001b[0m                         Traceback (most recent call last)",
      "\u001b[1;32m~\\AppData\\Local\\Temp\\ipykernel_8032\\3603864187.py\u001b[0m in \u001b[0;36m<module>\u001b[1;34m\u001b[0m\n\u001b[1;32m----> 1\u001b[1;33m \u001b[0mdf\u001b[0m \u001b[1;33m=\u001b[0m \u001b[0mpd\u001b[0m\u001b[1;33m.\u001b[0m\u001b[0mread_csv\u001b[0m\u001b[1;33m(\u001b[0m\u001b[1;34m\"kc_house_data.csv\"\u001b[0m\u001b[1;33m)\u001b[0m\u001b[1;33m\u001b[0m\u001b[0m\n\u001b[0m\u001b[0;32m      2\u001b[0m \u001b[0mdf\u001b[0m\u001b[1;33m.\u001b[0m\u001b[0mhead\u001b[0m\u001b[1;33m(\u001b[0m\u001b[1;33m)\u001b[0m\u001b[1;33m\u001b[0m\u001b[0m\n",
      "\u001b[1;32mc:\\Users\\mayur\\AppData\\Local\\Programs\\Python\\Python37\\lib\\site-packages\\pandas\\io\\parsers.py\u001b[0m in \u001b[0;36mread_csv\u001b[1;34m(filepath_or_buffer, sep, delimiter, header, names, index_col, usecols, squeeze, prefix, mangle_dupe_cols, dtype, engine, converters, true_values, false_values, skipinitialspace, skiprows, skipfooter, nrows, na_values, keep_default_na, na_filter, verbose, skip_blank_lines, parse_dates, infer_datetime_format, keep_date_col, date_parser, dayfirst, cache_dates, iterator, chunksize, compression, thousands, decimal, lineterminator, quotechar, quoting, doublequote, escapechar, comment, encoding, dialect, error_bad_lines, warn_bad_lines, delim_whitespace, low_memory, memory_map, float_precision)\u001b[0m\n\u001b[0;32m    686\u001b[0m     )\n\u001b[0;32m    687\u001b[0m \u001b[1;33m\u001b[0m\u001b[0m\n\u001b[1;32m--> 688\u001b[1;33m     \u001b[1;32mreturn\u001b[0m \u001b[0m_read\u001b[0m\u001b[1;33m(\u001b[0m\u001b[0mfilepath_or_buffer\u001b[0m\u001b[1;33m,\u001b[0m \u001b[0mkwds\u001b[0m\u001b[1;33m)\u001b[0m\u001b[1;33m\u001b[0m\u001b[0m\n\u001b[0m\u001b[0;32m    689\u001b[0m \u001b[1;33m\u001b[0m\u001b[0m\n\u001b[0;32m    690\u001b[0m \u001b[1;33m\u001b[0m\u001b[0m\n",
      "\u001b[1;32mc:\\Users\\mayur\\AppData\\Local\\Programs\\Python\\Python37\\lib\\site-packages\\pandas\\io\\parsers.py\u001b[0m in \u001b[0;36m_read\u001b[1;34m(filepath_or_buffer, kwds)\u001b[0m\n\u001b[0;32m    452\u001b[0m \u001b[1;33m\u001b[0m\u001b[0m\n\u001b[0;32m    453\u001b[0m     \u001b[1;31m# Create the parser.\u001b[0m\u001b[1;33m\u001b[0m\u001b[1;33m\u001b[0m\u001b[0m\n\u001b[1;32m--> 454\u001b[1;33m     \u001b[0mparser\u001b[0m \u001b[1;33m=\u001b[0m \u001b[0mTextFileReader\u001b[0m\u001b[1;33m(\u001b[0m\u001b[0mfp_or_buf\u001b[0m\u001b[1;33m,\u001b[0m \u001b[1;33m**\u001b[0m\u001b[0mkwds\u001b[0m\u001b[1;33m)\u001b[0m\u001b[1;33m\u001b[0m\u001b[0m\n\u001b[0m\u001b[0;32m    455\u001b[0m \u001b[1;33m\u001b[0m\u001b[0m\n\u001b[0;32m    456\u001b[0m     \u001b[1;32mif\u001b[0m \u001b[0mchunksize\u001b[0m \u001b[1;32mor\u001b[0m \u001b[0miterator\u001b[0m\u001b[1;33m:\u001b[0m\u001b[1;33m\u001b[0m\u001b[0m\n",
      "\u001b[1;32mc:\\Users\\mayur\\AppData\\Local\\Programs\\Python\\Python37\\lib\\site-packages\\pandas\\io\\parsers.py\u001b[0m in \u001b[0;36m__init__\u001b[1;34m(self, f, engine, **kwds)\u001b[0m\n\u001b[0;32m    946\u001b[0m             \u001b[0mself\u001b[0m\u001b[1;33m.\u001b[0m\u001b[0moptions\u001b[0m\u001b[1;33m[\u001b[0m\u001b[1;34m\"has_index_names\"\u001b[0m\u001b[1;33m]\u001b[0m \u001b[1;33m=\u001b[0m \u001b[0mkwds\u001b[0m\u001b[1;33m[\u001b[0m\u001b[1;34m\"has_index_names\"\u001b[0m\u001b[1;33m]\u001b[0m\u001b[1;33m\u001b[0m\u001b[0m\n\u001b[0;32m    947\u001b[0m \u001b[1;33m\u001b[0m\u001b[0m\n\u001b[1;32m--> 948\u001b[1;33m         \u001b[0mself\u001b[0m\u001b[1;33m.\u001b[0m\u001b[0m_make_engine\u001b[0m\u001b[1;33m(\u001b[0m\u001b[0mself\u001b[0m\u001b[1;33m.\u001b[0m\u001b[0mengine\u001b[0m\u001b[1;33m)\u001b[0m\u001b[1;33m\u001b[0m\u001b[0m\n\u001b[0m\u001b[0;32m    949\u001b[0m \u001b[1;33m\u001b[0m\u001b[0m\n\u001b[0;32m    950\u001b[0m     \u001b[1;32mdef\u001b[0m \u001b[0mclose\u001b[0m\u001b[1;33m(\u001b[0m\u001b[0mself\u001b[0m\u001b[1;33m)\u001b[0m\u001b[1;33m:\u001b[0m\u001b[1;33m\u001b[0m\u001b[0m\n",
      "\u001b[1;32mc:\\Users\\mayur\\AppData\\Local\\Programs\\Python\\Python37\\lib\\site-packages\\pandas\\io\\parsers.py\u001b[0m in \u001b[0;36m_make_engine\u001b[1;34m(self, engine)\u001b[0m\n\u001b[0;32m   1178\u001b[0m     \u001b[1;32mdef\u001b[0m \u001b[0m_make_engine\u001b[0m\u001b[1;33m(\u001b[0m\u001b[0mself\u001b[0m\u001b[1;33m,\u001b[0m \u001b[0mengine\u001b[0m\u001b[1;33m=\u001b[0m\u001b[1;34m\"c\"\u001b[0m\u001b[1;33m)\u001b[0m\u001b[1;33m:\u001b[0m\u001b[1;33m\u001b[0m\u001b[0m\n\u001b[0;32m   1179\u001b[0m         \u001b[1;32mif\u001b[0m \u001b[0mengine\u001b[0m \u001b[1;33m==\u001b[0m \u001b[1;34m\"c\"\u001b[0m\u001b[1;33m:\u001b[0m\u001b[1;33m\u001b[0m\u001b[0m\n\u001b[1;32m-> 1180\u001b[1;33m             \u001b[0mself\u001b[0m\u001b[1;33m.\u001b[0m\u001b[0m_engine\u001b[0m \u001b[1;33m=\u001b[0m \u001b[0mCParserWrapper\u001b[0m\u001b[1;33m(\u001b[0m\u001b[0mself\u001b[0m\u001b[1;33m.\u001b[0m\u001b[0mf\u001b[0m\u001b[1;33m,\u001b[0m \u001b[1;33m**\u001b[0m\u001b[0mself\u001b[0m\u001b[1;33m.\u001b[0m\u001b[0moptions\u001b[0m\u001b[1;33m)\u001b[0m\u001b[1;33m\u001b[0m\u001b[0m\n\u001b[0m\u001b[0;32m   1181\u001b[0m         \u001b[1;32melse\u001b[0m\u001b[1;33m:\u001b[0m\u001b[1;33m\u001b[0m\u001b[0m\n\u001b[0;32m   1182\u001b[0m             \u001b[1;32mif\u001b[0m \u001b[0mengine\u001b[0m \u001b[1;33m==\u001b[0m \u001b[1;34m\"python\"\u001b[0m\u001b[1;33m:\u001b[0m\u001b[1;33m\u001b[0m\u001b[0m\n",
      "\u001b[1;32mc:\\Users\\mayur\\AppData\\Local\\Programs\\Python\\Python37\\lib\\site-packages\\pandas\\io\\parsers.py\u001b[0m in \u001b[0;36m__init__\u001b[1;34m(self, src, **kwds)\u001b[0m\n\u001b[0;32m   2008\u001b[0m         \u001b[0mkwds\u001b[0m\u001b[1;33m[\u001b[0m\u001b[1;34m\"usecols\"\u001b[0m\u001b[1;33m]\u001b[0m \u001b[1;33m=\u001b[0m \u001b[0mself\u001b[0m\u001b[1;33m.\u001b[0m\u001b[0musecols\u001b[0m\u001b[1;33m\u001b[0m\u001b[0m\n\u001b[0;32m   2009\u001b[0m \u001b[1;33m\u001b[0m\u001b[0m\n\u001b[1;32m-> 2010\u001b[1;33m         \u001b[0mself\u001b[0m\u001b[1;33m.\u001b[0m\u001b[0m_reader\u001b[0m \u001b[1;33m=\u001b[0m \u001b[0mparsers\u001b[0m\u001b[1;33m.\u001b[0m\u001b[0mTextReader\u001b[0m\u001b[1;33m(\u001b[0m\u001b[0msrc\u001b[0m\u001b[1;33m,\u001b[0m \u001b[1;33m**\u001b[0m\u001b[0mkwds\u001b[0m\u001b[1;33m)\u001b[0m\u001b[1;33m\u001b[0m\u001b[0m\n\u001b[0m\u001b[0;32m   2011\u001b[0m         \u001b[0mself\u001b[0m\u001b[1;33m.\u001b[0m\u001b[0munnamed_cols\u001b[0m \u001b[1;33m=\u001b[0m \u001b[0mself\u001b[0m\u001b[1;33m.\u001b[0m\u001b[0m_reader\u001b[0m\u001b[1;33m.\u001b[0m\u001b[0munnamed_cols\u001b[0m\u001b[1;33m\u001b[0m\u001b[0m\n\u001b[0;32m   2012\u001b[0m \u001b[1;33m\u001b[0m\u001b[0m\n",
      "\u001b[1;32mpandas\\_libs\\parsers.pyx\u001b[0m in \u001b[0;36mpandas._libs.parsers.TextReader.__cinit__\u001b[1;34m()\u001b[0m\n",
      "\u001b[1;32mpandas\\_libs\\parsers.pyx\u001b[0m in \u001b[0;36mpandas._libs.parsers.TextReader._setup_parser_source\u001b[1;34m()\u001b[0m\n",
      "\u001b[1;31mFileNotFoundError\u001b[0m: [Errno 2] No such file or directory: 'kc_house_data.csv'"
     ]
    }
   ],
   "source": [
    "df = pd.read_csv(\"kc_house_data.csv\")\n",
    "df.head()"
   ]
  },
  {
   "attachments": {},
   "cell_type": "markdown",
   "metadata": {},
   "source": [
    "# Data Cleaning Process"
   ]
  },
  {
   "attachments": {},
   "cell_type": "markdown",
   "metadata": {},
   "source": [
    "It can be seen by following output that the dataset doesn't contain null values "
   ]
  },
  {
   "cell_type": "code",
   "execution_count": null,
   "metadata": {
    "execution": {
     "iopub.execute_input": "2020-12-06T16:14:03.909587Z",
     "iopub.status.busy": "2020-12-06T16:14:03.907448Z",
     "iopub.status.idle": "2020-12-06T16:14:03.931758Z",
     "shell.execute_reply": "2020-12-06T16:14:03.931132Z"
    },
    "papermill": {
     "duration": 0.088204,
     "end_time": "2020-12-06T16:14:03.931904",
     "exception": false,
     "start_time": "2020-12-06T16:14:03.843700",
     "status": "completed"
    },
    "tags": []
   },
   "outputs": [],
   "source": [
    "df.info()"
   ]
  },
  {
   "cell_type": "code",
   "execution_count": null,
   "metadata": {
    "execution": {
     "iopub.execute_input": "2020-12-06T16:14:04.114365Z",
     "iopub.status.busy": "2020-12-06T16:14:04.113596Z",
     "iopub.status.idle": "2020-12-06T16:14:04.191382Z",
     "shell.execute_reply": "2020-12-06T16:14:04.190709Z"
    },
    "papermill": {
     "duration": 0.125268,
     "end_time": "2020-12-06T16:14:04.191523",
     "exception": false,
     "start_time": "2020-12-06T16:14:04.066255",
     "status": "completed"
    },
    "tags": []
   },
   "outputs": [],
   "source": [
    "df.describe().T"
   ]
  },
  {
   "attachments": {},
   "cell_type": "markdown",
   "metadata": {},
   "source": [
    "# Data Visualization"
   ]
  },
  {
   "cell_type": "code",
   "execution_count": null,
   "metadata": {
    "execution": {
     "iopub.execute_input": "2020-12-06T16:14:04.277147Z",
     "iopub.status.busy": "2020-12-06T16:14:04.276461Z",
     "iopub.status.idle": "2020-12-06T16:14:04.626375Z",
     "shell.execute_reply": "2020-12-06T16:14:04.625858Z"
    },
    "papermill": {
     "duration": 0.394861,
     "end_time": "2020-12-06T16:14:04.626513",
     "exception": false,
     "start_time": "2020-12-06T16:14:04.231652",
     "status": "completed"
    },
    "tags": []
   },
   "outputs": [],
   "source": [
    "plt.figure(figsize=(10,6))\n",
    "sns.distplot(df[\"price\"]);"
   ]
  },
  {
   "cell_type": "code",
   "execution_count": null,
   "metadata": {
    "execution": {
     "iopub.execute_input": "2020-12-06T16:14:04.713856Z",
     "iopub.status.busy": "2020-12-06T16:14:04.713153Z",
     "iopub.status.idle": "2020-12-06T16:14:04.909927Z",
     "shell.execute_reply": "2020-12-06T16:14:04.909329Z"
    },
    "papermill": {
     "duration": 0.243065,
     "end_time": "2020-12-06T16:14:04.910046",
     "exception": false,
     "start_time": "2020-12-06T16:14:04.666981",
     "status": "completed"
    },
    "tags": []
   },
   "outputs": [],
   "source": [
    "sns.countplot(df[\"bedrooms\"]);"
   ]
  },
  {
   "cell_type": "code",
   "execution_count": null,
   "metadata": {
    "execution": {
     "iopub.execute_input": "2020-12-06T16:14:05.000925Z",
     "iopub.status.busy": "2020-12-06T16:14:05.000236Z",
     "iopub.status.idle": "2020-12-06T16:14:05.031629Z",
     "shell.execute_reply": "2020-12-06T16:14:05.030889Z"
    },
    "papermill": {
     "duration": 0.079811,
     "end_time": "2020-12-06T16:14:05.031755",
     "exception": false,
     "start_time": "2020-12-06T16:14:04.951944",
     "status": "completed"
    },
    "tags": []
   },
   "outputs": [],
   "source": [
    "df.corr()[\"price\"].sort_values()"
   ]
  },
  {
   "cell_type": "code",
   "execution_count": null,
   "metadata": {
    "execution": {
     "iopub.execute_input": "2020-12-06T16:14:05.134682Z",
     "iopub.status.busy": "2020-12-06T16:14:05.130087Z",
     "iopub.status.idle": "2020-12-06T16:14:05.454890Z",
     "shell.execute_reply": "2020-12-06T16:14:05.454282Z"
    },
    "papermill": {
     "duration": 0.377966,
     "end_time": "2020-12-06T16:14:05.455001",
     "exception": false,
     "start_time": "2020-12-06T16:14:05.077035",
     "status": "completed"
    },
    "tags": []
   },
   "outputs": [],
   "source": [
    "plt.figure(figsize=(10,6))\n",
    "sns.scatterplot(x=\"price\",y=\"sqft_living\",data=df);"
   ]
  },
  {
   "cell_type": "code",
   "execution_count": null,
   "metadata": {
    "execution": {
     "iopub.execute_input": "2020-12-06T16:14:05.551384Z",
     "iopub.status.busy": "2020-12-06T16:14:05.550486Z",
     "iopub.status.idle": "2020-12-06T16:14:05.964278Z",
     "shell.execute_reply": "2020-12-06T16:14:05.965047Z"
    },
    "papermill": {
     "duration": 0.466096,
     "end_time": "2020-12-06T16:14:05.965227",
     "exception": false,
     "start_time": "2020-12-06T16:14:05.499131",
     "status": "completed"
    },
    "tags": []
   },
   "outputs": [],
   "source": [
    "plt.figure(figsize=(10,6))\n",
    "sns.boxplot(x=\"bedrooms\",y=\"price\",data=df);"
   ]
  },
  {
   "cell_type": "code",
   "execution_count": null,
   "metadata": {
    "execution": {
     "iopub.execute_input": "2020-12-06T16:14:06.107028Z",
     "iopub.status.busy": "2020-12-06T16:14:06.106117Z",
     "iopub.status.idle": "2020-12-06T16:14:06.360427Z",
     "shell.execute_reply": "2020-12-06T16:14:06.359803Z"
    },
    "papermill": {
     "duration": 0.328555,
     "end_time": "2020-12-06T16:14:06.360541",
     "exception": false,
     "start_time": "2020-12-06T16:14:06.031986",
     "status": "completed"
    },
    "tags": []
   },
   "outputs": [],
   "source": [
    "plt.figure(figsize=(10,6))\n",
    "sns.scatterplot(x=\"price\",y=\"long\",data=df);"
   ]
  },
  {
   "cell_type": "code",
   "execution_count": null,
   "metadata": {
    "execution": {
     "iopub.execute_input": "2020-12-06T16:14:06.465303Z",
     "iopub.status.busy": "2020-12-06T16:14:06.464274Z",
     "iopub.status.idle": "2020-12-06T16:14:06.780582Z",
     "shell.execute_reply": "2020-12-06T16:14:06.780043Z"
    },
    "papermill": {
     "duration": 0.372164,
     "end_time": "2020-12-06T16:14:06.780693",
     "exception": false,
     "start_time": "2020-12-06T16:14:06.408529",
     "status": "completed"
    },
    "tags": []
   },
   "outputs": [],
   "source": [
    "plt.figure(figsize=(10,6))\n",
    "sns.scatterplot(x=\"price\",y=\"lat\",data=df);"
   ]
  },
  {
   "cell_type": "code",
   "execution_count": null,
   "metadata": {
    "execution": {
     "iopub.execute_input": "2020-12-06T16:14:06.888234Z",
     "iopub.status.busy": "2020-12-06T16:14:06.885586Z",
     "iopub.status.idle": "2020-12-06T16:14:07.780905Z",
     "shell.execute_reply": "2020-12-06T16:14:07.781503Z"
    },
    "papermill": {
     "duration": 0.952155,
     "end_time": "2020-12-06T16:14:07.781654",
     "exception": false,
     "start_time": "2020-12-06T16:14:06.829499",
     "status": "completed"
    },
    "tags": []
   },
   "outputs": [],
   "source": [
    "plt.figure(figsize=(10,6))\n",
    "sns.scatterplot(x=\"long\",y=\"lat\",data=df,hue=\"price\");"
   ]
  },
  {
   "cell_type": "code",
   "execution_count": null,
   "metadata": {
    "execution": {
     "iopub.execute_input": "2020-12-06T16:14:07.894215Z",
     "iopub.status.busy": "2020-12-06T16:14:07.893567Z",
     "iopub.status.idle": "2020-12-06T16:14:07.951101Z",
     "shell.execute_reply": "2020-12-06T16:14:07.951609Z"
    },
    "papermill": {
     "duration": 0.117594,
     "end_time": "2020-12-06T16:14:07.951752",
     "exception": false,
     "start_time": "2020-12-06T16:14:07.834158",
     "status": "completed"
    },
    "tags": []
   },
   "outputs": [],
   "source": [
    "df.sort_values(\"price\",ascending=False).head(20)"
   ]
  },
  {
   "cell_type": "code",
   "execution_count": null,
   "metadata": {
    "execution": {
     "iopub.execute_input": "2020-12-06T16:14:08.065713Z",
     "iopub.status.busy": "2020-12-06T16:14:08.065020Z",
     "iopub.status.idle": "2020-12-06T16:14:08.071276Z",
     "shell.execute_reply": "2020-12-06T16:14:08.070329Z"
    },
    "papermill": {
     "duration": 0.065729,
     "end_time": "2020-12-06T16:14:08.071478",
     "exception": false,
     "start_time": "2020-12-06T16:14:08.005749",
     "status": "completed"
    },
    "tags": []
   },
   "outputs": [],
   "source": [
    "len(df)*0.01"
   ]
  },
  {
   "cell_type": "code",
   "execution_count": null,
   "metadata": {
    "execution": {
     "iopub.execute_input": "2020-12-06T16:14:08.235028Z",
     "iopub.status.busy": "2020-12-06T16:14:08.234317Z",
     "iopub.status.idle": "2020-12-06T16:14:08.244642Z",
     "shell.execute_reply": "2020-12-06T16:14:08.244094Z"
    },
    "papermill": {
     "duration": 0.094861,
     "end_time": "2020-12-06T16:14:08.244756",
     "exception": false,
     "start_time": "2020-12-06T16:14:08.149895",
     "status": "completed"
    },
    "tags": []
   },
   "outputs": [],
   "source": [
    "non_top_one_percent = df.sort_values(\"price\",ascending=False).iloc[216:]"
   ]
  },
  {
   "cell_type": "code",
   "execution_count": null,
   "metadata": {
    "execution": {
     "iopub.execute_input": "2020-12-06T16:14:08.362814Z",
     "iopub.status.busy": "2020-12-06T16:14:08.359646Z",
     "iopub.status.idle": "2020-12-06T16:14:09.704930Z",
     "shell.execute_reply": "2020-12-06T16:14:09.704250Z"
    },
    "papermill": {
     "duration": 1.405788,
     "end_time": "2020-12-06T16:14:09.705039",
     "exception": false,
     "start_time": "2020-12-06T16:14:08.299251",
     "status": "completed"
    },
    "tags": []
   },
   "outputs": [],
   "source": [
    "plt.figure(figsize=(10,6))\n",
    "sns.scatterplot(x=\"long\",y=\"lat\",data=non_top_one_percent,edgecolor=None,hue=\"price\",alpha=0.2,palette='RdYlGn');"
   ]
  },
  {
   "cell_type": "code",
   "execution_count": null,
   "metadata": {
    "execution": {
     "iopub.execute_input": "2020-12-06T16:14:09.830255Z",
     "iopub.status.busy": "2020-12-06T16:14:09.829606Z",
     "iopub.status.idle": "2020-12-06T16:14:10.014214Z",
     "shell.execute_reply": "2020-12-06T16:14:10.013686Z"
    },
    "papermill": {
     "duration": 0.24951,
     "end_time": "2020-12-06T16:14:10.014327",
     "exception": false,
     "start_time": "2020-12-06T16:14:09.764817",
     "status": "completed"
    },
    "tags": []
   },
   "outputs": [],
   "source": [
    "sns.boxplot(x=\"waterfront\",y=\"price\",data=df);"
   ]
  },
  {
   "cell_type": "code",
   "execution_count": null,
   "metadata": {
    "execution": {
     "iopub.execute_input": "2020-12-06T16:14:10.141236Z",
     "iopub.status.busy": "2020-12-06T16:14:10.140624Z",
     "iopub.status.idle": "2020-12-06T16:14:10.143930Z",
     "shell.execute_reply": "2020-12-06T16:14:10.143365Z"
    },
    "papermill": {
     "duration": 0.070959,
     "end_time": "2020-12-06T16:14:10.144041",
     "exception": false,
     "start_time": "2020-12-06T16:14:10.073082",
     "status": "completed"
    },
    "tags": []
   },
   "outputs": [],
   "source": [
    "#df.drop('id',axis=1,inplace=True)"
   ]
  },
  {
   "cell_type": "code",
   "execution_count": null,
   "metadata": {
    "execution": {
     "iopub.execute_input": "2020-12-06T16:14:10.271680Z",
     "iopub.status.busy": "2020-12-06T16:14:10.271053Z",
     "iopub.status.idle": "2020-12-06T16:14:10.281550Z",
     "shell.execute_reply": "2020-12-06T16:14:10.282032Z"
    },
    "papermill": {
     "duration": 0.079278,
     "end_time": "2020-12-06T16:14:10.282185",
     "exception": false,
     "start_time": "2020-12-06T16:14:10.202907",
     "status": "completed"
    },
    "tags": []
   },
   "outputs": [],
   "source": [
    "df[\"date\"] = pd.to_datetime(df[\"date\"])"
   ]
  },
  {
   "cell_type": "code",
   "execution_count": null,
   "metadata": {
    "execution": {
     "iopub.execute_input": "2020-12-06T16:14:10.408449Z",
     "iopub.status.busy": "2020-12-06T16:14:10.407504Z",
     "iopub.status.idle": "2020-12-06T16:14:10.411540Z",
     "shell.execute_reply": "2020-12-06T16:14:10.410870Z"
    },
    "papermill": {
     "duration": 0.06971,
     "end_time": "2020-12-06T16:14:10.411655",
     "exception": false,
     "start_time": "2020-12-06T16:14:10.341945",
     "status": "completed"
    },
    "tags": []
   },
   "outputs": [],
   "source": [
    "def year_extraction(date):\n",
    "    return date.year"
   ]
  },
  {
   "cell_type": "code",
   "execution_count": null,
   "metadata": {
    "execution": {
     "iopub.execute_input": "2020-12-06T16:14:10.555948Z",
     "iopub.status.busy": "2020-12-06T16:14:10.545639Z",
     "iopub.status.idle": "2020-12-06T16:14:10.647730Z",
     "shell.execute_reply": "2020-12-06T16:14:10.647030Z"
    },
    "papermill": {
     "duration": 0.174889,
     "end_time": "2020-12-06T16:14:10.647843",
     "exception": false,
     "start_time": "2020-12-06T16:14:10.472954",
     "status": "completed"
    },
    "tags": []
   },
   "outputs": [],
   "source": [
    "df[\"year\"] = df[\"date\"].apply(lambda date: date.year)"
   ]
  },
  {
   "cell_type": "code",
   "execution_count": null,
   "metadata": {
    "execution": {
     "iopub.execute_input": "2020-12-06T16:14:10.784601Z",
     "iopub.status.busy": "2020-12-06T16:14:10.779575Z",
     "iopub.status.idle": "2020-12-06T16:14:10.982662Z",
     "shell.execute_reply": "2020-12-06T16:14:10.982061Z"
    },
    "papermill": {
     "duration": 0.274822,
     "end_time": "2020-12-06T16:14:10.982772",
     "exception": false,
     "start_time": "2020-12-06T16:14:10.707950",
     "status": "completed"
    },
    "tags": []
   },
   "outputs": [],
   "source": [
    "df[\"month\"] = df[\"date\"].apply(lambda date: date.month)"
   ]
  },
  {
   "cell_type": "code",
   "execution_count": null,
   "metadata": {
    "execution": {
     "iopub.execute_input": "2020-12-06T16:14:11.109730Z",
     "iopub.status.busy": "2020-12-06T16:14:11.108848Z",
     "iopub.status.idle": "2020-12-06T16:14:11.425028Z",
     "shell.execute_reply": "2020-12-06T16:14:11.425647Z"
    },
    "papermill": {
     "duration": 0.383254,
     "end_time": "2020-12-06T16:14:11.425854",
     "exception": false,
     "start_time": "2020-12-06T16:14:11.042600",
     "status": "completed"
    },
    "tags": []
   },
   "outputs": [],
   "source": [
    "plt.figure(figsize=(10,6))\n",
    "sns.boxplot(x=\"month\",y=\"price\",data=df);"
   ]
  },
  {
   "cell_type": "code",
   "execution_count": null,
   "metadata": {
    "execution": {
     "iopub.execute_input": "2020-12-06T16:14:11.559301Z",
     "iopub.status.busy": "2020-12-06T16:14:11.558398Z",
     "iopub.status.idle": "2020-12-06T16:14:11.784431Z",
     "shell.execute_reply": "2020-12-06T16:14:11.783847Z"
    },
    "papermill": {
     "duration": 0.295118,
     "end_time": "2020-12-06T16:14:11.784545",
     "exception": false,
     "start_time": "2020-12-06T16:14:11.489427",
     "status": "completed"
    },
    "tags": []
   },
   "outputs": [],
   "source": [
    "df.groupby('month').mean()[\"price\"].plot();"
   ]
  },
  {
   "cell_type": "code",
   "execution_count": null,
   "metadata": {
    "execution": {
     "iopub.execute_input": "2020-12-06T16:14:11.919353Z",
     "iopub.status.busy": "2020-12-06T16:14:11.918684Z",
     "iopub.status.idle": "2020-12-06T16:14:12.122327Z",
     "shell.execute_reply": "2020-12-06T16:14:12.121542Z"
    },
    "papermill": {
     "duration": 0.275013,
     "end_time": "2020-12-06T16:14:12.122469",
     "exception": false,
     "start_time": "2020-12-06T16:14:11.847456",
     "status": "completed"
    },
    "tags": []
   },
   "outputs": [],
   "source": [
    "df.groupby('year').mean()[\"price\"].plot();"
   ]
  },
  {
   "cell_type": "code",
   "execution_count": null,
   "metadata": {
    "execution": {
     "iopub.execute_input": "2020-12-06T16:14:12.258456Z",
     "iopub.status.busy": "2020-12-06T16:14:12.257094Z",
     "iopub.status.idle": "2020-12-06T16:14:12.261992Z",
     "shell.execute_reply": "2020-12-06T16:14:12.260912Z"
    },
    "papermill": {
     "duration": 0.077289,
     "end_time": "2020-12-06T16:14:12.262141",
     "exception": false,
     "start_time": "2020-12-06T16:14:12.184852",
     "status": "completed"
    },
    "tags": []
   },
   "outputs": [],
   "source": [
    "df.drop(\"date\",axis=1,inplace=True)"
   ]
  },
  {
   "cell_type": "code",
   "execution_count": null,
   "metadata": {
    "execution": {
     "iopub.execute_input": "2020-12-06T16:14:12.464882Z",
     "iopub.status.busy": "2020-12-06T16:14:12.464240Z",
     "iopub.status.idle": "2020-12-06T16:14:12.473553Z",
     "shell.execute_reply": "2020-12-06T16:14:12.474045Z"
    },
    "papermill": {
     "duration": 0.122357,
     "end_time": "2020-12-06T16:14:12.474204",
     "exception": false,
     "start_time": "2020-12-06T16:14:12.351847",
     "status": "completed"
    },
    "tags": []
   },
   "outputs": [],
   "source": [
    "df.head()"
   ]
  },
  {
   "cell_type": "code",
   "execution_count": null,
   "metadata": {
    "execution": {
     "iopub.execute_input": "2020-12-06T16:14:12.609135Z",
     "iopub.status.busy": "2020-12-06T16:14:12.608512Z",
     "iopub.status.idle": "2020-12-06T16:14:12.618393Z",
     "shell.execute_reply": "2020-12-06T16:14:12.617754Z"
    },
    "papermill": {
     "duration": 0.080157,
     "end_time": "2020-12-06T16:14:12.618530",
     "exception": false,
     "start_time": "2020-12-06T16:14:12.538373",
     "status": "completed"
    },
    "tags": []
   },
   "outputs": [],
   "source": [
    "df[\"zipcode\"].value_counts()"
   ]
  },
  {
   "cell_type": "code",
   "execution_count": null,
   "metadata": {
    "execution": {
     "iopub.execute_input": "2020-12-06T16:14:12.756127Z",
     "iopub.status.busy": "2020-12-06T16:14:12.754484Z",
     "iopub.status.idle": "2020-12-06T16:14:12.759034Z",
     "shell.execute_reply": "2020-12-06T16:14:12.758394Z"
    },
    "papermill": {
     "duration": 0.077161,
     "end_time": "2020-12-06T16:14:12.759152",
     "exception": false,
     "start_time": "2020-12-06T16:14:12.681991",
     "status": "completed"
    },
    "tags": []
   },
   "outputs": [],
   "source": [
    "df.drop(\"zipcode\",axis=1,inplace=True)"
   ]
  },
  {
   "cell_type": "code",
   "execution_count": null,
   "metadata": {
    "execution": {
     "iopub.execute_input": "2020-12-06T16:14:12.902224Z",
     "iopub.status.busy": "2020-12-06T16:14:12.898364Z",
     "iopub.status.idle": "2020-12-06T16:14:12.908458Z",
     "shell.execute_reply": "2020-12-06T16:14:12.907691Z"
    },
    "papermill": {
     "duration": 0.084326,
     "end_time": "2020-12-06T16:14:12.908602",
     "exception": false,
     "start_time": "2020-12-06T16:14:12.824276",
     "status": "completed"
    },
    "tags": []
   },
   "outputs": [],
   "source": [
    "df[\"yr_renovated\"].value_counts()"
   ]
  },
  {
   "cell_type": "code",
   "execution_count": null,
   "metadata": {
    "execution": {
     "iopub.execute_input": "2020-12-06T16:14:13.120553Z",
     "iopub.status.busy": "2020-12-06T16:14:13.119755Z",
     "iopub.status.idle": "2020-12-06T16:14:13.129141Z",
     "shell.execute_reply": "2020-12-06T16:14:13.128400Z"
    },
    "papermill": {
     "duration": 0.120353,
     "end_time": "2020-12-06T16:14:13.129275",
     "exception": false,
     "start_time": "2020-12-06T16:14:13.008922",
     "status": "completed"
    },
    "tags": []
   },
   "outputs": [],
   "source": [
    "df[\"sqft_basement\"].value_counts()"
   ]
  },
  {
   "cell_type": "code",
   "execution_count": null,
   "metadata": {
    "execution": {
     "iopub.execute_input": "2020-12-06T16:14:13.343272Z",
     "iopub.status.busy": "2020-12-06T16:14:13.342192Z",
     "iopub.status.idle": "2020-12-06T16:14:13.348911Z",
     "shell.execute_reply": "2020-12-06T16:14:13.348035Z"
    },
    "papermill": {
     "duration": 0.119504,
     "end_time": "2020-12-06T16:14:13.349104",
     "exception": false,
     "start_time": "2020-12-06T16:14:13.229600",
     "status": "completed"
    },
    "tags": []
   },
   "outputs": [],
   "source": [
    "#X = df.drop(\"price\",axis=1).values\n",
    "#y = df[\"price\"].values"
   ]
  },
  {
   "cell_type": "code",
   "execution_count": null,
   "metadata": {},
   "outputs": [],
   "source": [
    "df.drop(\"year\",axis=1,inplace=True)\n",
    "df.drop(\"month\",axis=1,inplace=True)"
   ]
  },
  {
   "cell_type": "code",
   "execution_count": null,
   "metadata": {},
   "outputs": [],
   "source": [
    "df.head()"
   ]
  },
  {
   "cell_type": "code",
   "execution_count": null,
   "metadata": {},
   "outputs": [],
   "source": [
    "data = df.sample(frac=0.9, random_state=786).reset_index(drop=True)\n",
    "data_unseen = df.drop(data.index).reset_index(drop=True)\n",
    "\n",
    "print('Data for Modeling: ' + str(data.shape))\n",
    "print('Unseen Data For Predictions: ' + str(data_unseen.shape))"
   ]
  },
  {
   "cell_type": "code",
   "execution_count": null,
   "metadata": {},
   "outputs": [],
   "source": [
    "exp_reg = setup(data = df, target = 'price', session_id=100, numeric_features=['bedrooms']) "
   ]
  },
  {
   "cell_type": "code",
   "execution_count": null,
   "metadata": {
    "scrolled": true
   },
   "outputs": [],
   "source": [
    "compare_models()"
   ]
  },
  {
   "cell_type": "code",
   "execution_count": null,
   "metadata": {},
   "outputs": [],
   "source": [
    "cat = create_model('catboost')"
   ]
  },
  {
   "cell_type": "code",
   "execution_count": null,
   "metadata": {},
   "outputs": [],
   "source": [
    "interpret_model(cat)"
   ]
  },
  {
   "cell_type": "code",
   "execution_count": null,
   "metadata": {},
   "outputs": [],
   "source": [
    "evaluate_model(cat)"
   ]
  },
  {
   "cell_type": "code",
   "execution_count": null,
   "metadata": {
    "scrolled": true
   },
   "outputs": [],
   "source": [
    "predict_model(cat)"
   ]
  },
  {
   "cell_type": "code",
   "execution_count": null,
   "metadata": {},
   "outputs": [],
   "source": [
    "final_model = finalize_model(cat)\n",
    "print(cat)"
   ]
  },
  {
   "cell_type": "code",
   "execution_count": null,
   "metadata": {},
   "outputs": [],
   "source": [
    "predict_model(cat)"
   ]
  },
  {
   "attachments": {},
   "cell_type": "markdown",
   "metadata": {},
   "source": [
    "## Prediction on unseen data"
   ]
  },
  {
   "cell_type": "code",
   "execution_count": null,
   "metadata": {},
   "outputs": [],
   "source": [
    "unseen_predictions = predict_model(final_model, data=data_unseen)\n",
    "unseen_predictions.head()"
   ]
  },
  {
   "cell_type": "code",
   "execution_count": null,
   "metadata": {},
   "outputs": [],
   "source": [
    "save_model(final_model,'Final_Catboost_Model')"
   ]
  },
  {
   "cell_type": "code",
   "execution_count": null,
   "metadata": {},
   "outputs": [],
   "source": [
    "saved_final_model = load_model('Final_Catboost_Model')\n",
    "new_prediction = predict_model(saved_final_model, data=data_unseen)\n",
    "new_prediction.head()"
   ]
  }
 ],
 "metadata": {
  "kernelspec": {
   "display_name": "Python 3 (ipykernel)",
   "language": "python",
   "name": "python3"
  },
  "language_info": {
   "codemirror_mode": {
    "name": "ipython",
    "version": 3
   },
   "file_extension": ".py",
   "mimetype": "text/x-python",
   "name": "python",
   "nbconvert_exporter": "python",
   "pygments_lexer": "ipython3",
   "version": "3.7.0"
  }
 },
 "nbformat": 4,
 "nbformat_minor": 4
}
